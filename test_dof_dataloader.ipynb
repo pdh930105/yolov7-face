{
 "cells": [
  {
   "cell_type": "code",
   "execution_count": 7,
   "metadata": {},
   "outputs": [],
   "source": [
    "import sys\n",
    "import os\n",
    "sys.path.append('./dof')\n",
    "import torch\n",
    "from dof.datasets_lmdb import LMDBDataLoaderAugmenter"
   ]
  },
  {
   "cell_type": "code",
   "execution_count": 9,
   "metadata": {},
   "outputs": [],
   "source": [
    "import os\n",
    "\n",
    "import numpy as np\n",
    "import torch\n",
    "from easydict import EasyDict\n",
    "from torch.nn import MSELoss\n",
    "\n",
    "\n",
    "class Config(EasyDict):\n",
    "    def __init__(self, args):\n",
    "        # workspace configuration\n",
    "        self.prefix = args.prefix\n",
    "        self.work_path = os.path.join(args.workspace, self.prefix)\n",
    "        self.model_path = os.path.join(self.work_path, \"models\")\n",
    "        try:\n",
    "            self.create_path(self.model_path)\n",
    "        except Exception as e:\n",
    "            print(e)\n",
    "\n",
    "        self.log_path = os.path.join(self.work_path, \"log\")\n",
    "        try:\n",
    "            self.create_path(self.log_path)\n",
    "        except Exception as e:\n",
    "            print(e)\n",
    "\n",
    "        self.frequency_log = 20\n",
    "\n",
    "        # training/validation configuration\n",
    "        self.train_source = args.train_source\n",
    "        self.val_source = args.val_source\n",
    "\n",
    "        # network and training parameters\n",
    "        self.pose_loss = MSELoss(reduction=\"sum\")\n",
    "        self.pose_mean = np.load(args.pose_mean)\n",
    "        self.pose_stddev = np.load(args.pose_stddev)\n",
    "        self.depth = args.depth\n",
    "        self.lr = args.lr\n",
    "        self.lr_plateau = args.lr_plateau\n",
    "        self.early_stop = args.early_stop\n",
    "        self.batch_size = args.batch_size\n",
    "        self.workers = args.workers\n",
    "        self.epochs = args.epochs\n",
    "        self.min_size = args.min_size\n",
    "        self.max_size = args.max_size\n",
    "        self.device = torch.device(\"cuda\" if torch.cuda.is_available() else \"cpu\")\n",
    "        self.weight_decay = 5e-4\n",
    "        self.momentum = 0.9\n",
    "        self.pin_memory = True\n",
    "\n",
    "        # resume from or load pretrained weights\n",
    "        self.pretrained_path = args.pretrained_path\n",
    "        self.resume_path = args.resume_path\n",
    "\n",
    "        # online augmentation\n",
    "        self.noise_augmentation = args.noise_augmentation\n",
    "        self.contrast_augmentation = args.contrast_augmentation\n",
    "        self.random_flip = args.random_flip\n",
    "        self.random_crop = args.random_crop\n",
    "\n",
    "        # 3d reference points to compute pose\n",
    "        self.threed_5_points = args.threed_5_points\n",
    "        self.threed_68_points = args.threed_68_points\n",
    "\n",
    "        # distributed\n",
    "        self.distributed = args.distributed\n",
    "        if not args.distributed:\n",
    "            self.gpu = 0\n",
    "        else:\n",
    "            self.gpu = args.gpu\n",
    "\n",
    "        self.num_gpus = args.world_size\n",
    "\n",
    "    def create_path(self, file_path):\n",
    "        if not os.path.exists(file_path):\n",
    "            os.makedirs(file_path)\n"
   ]
  },
  {
   "cell_type": "code",
   "execution_count": 40,
   "metadata": {},
   "outputs": [],
   "source": [
    "def parse_args():\n",
    "    parser = EasyDict()\n",
    "    parser.min_size = '640'\n",
    "    parser.max_size = '1400'\n",
    "    parser.epochs = 100\n",
    "    parser.batch_size=2\n",
    "    parser.pose_mean='./dataset/wider_lmdb/WIDER_train_annotations_pose_mean.npy'\n",
    "    parser.pose_stddev='./dataset/wider_lmdb/WIDER_train_annotations_pose_stddev.npy'\n",
    "    parser.workspace='./workspace'\n",
    "    parser.train_source='./dataset/wider_lmdb/WIDER_train_annotations.lmdb'\n",
    "    parser.val_source='./dataset/wider_lmdb/WIDER_val_annotations.lmdb'\n",
    "    parser.prefix='trial_1'\n",
    "    parser.noise_augmentation=True\n",
    "    parser.contrast_augmentation=True\n",
    "    parser.random_flip=True\n",
    "    parser.random_crop=True\n",
    "    parser.world_size=1\n",
    "    parser.dist_url = \"env://\"\n",
    "    parser.distributed=False\n",
    "    parser.threed_5_points='./dof/pose_references/reference_3d_5_points_trans.npy'\n",
    "    parser.threed_68_points='./dof/pose_references/reference_3d_68_points_trans.npy'\n",
    "    args = parser    \n",
    "    args.min_size = [int(item) for item in args.min_size.split(\",\")]\n",
    "    args.depth=18\n",
    "    args.lr = 0.01\n",
    "    args.lr_plateau = False\n",
    "    args.early_stop = False\n",
    "    args.workers = 4\n",
    "    args.pretrained_path=False\n",
    "    args.resume_path=False\n",
    "    return args\n"
   ]
  },
  {
   "cell_type": "code",
   "execution_count": 41,
   "metadata": {},
   "outputs": [],
   "source": [
    "args = parse_args()"
   ]
  },
  {
   "cell_type": "code",
   "execution_count": 42,
   "metadata": {},
   "outputs": [],
   "source": [
    "config = Config(args)"
   ]
  },
  {
   "cell_type": "code",
   "execution_count": 43,
   "metadata": {},
   "outputs": [],
   "source": [
    "lmdbloader = LMDBDataLoaderAugmenter(config, lmdb_path=config.train_source)"
   ]
  },
  {
   "cell_type": "code",
   "execution_count": 44,
   "metadata": {},
   "outputs": [
    {
     "data": {
      "text/plain": [
       "<dof.datasets_lmdb.LMDBDataLoaderAugmenter at 0x7f97a03b3550>"
      ]
     },
     "execution_count": 44,
     "metadata": {},
     "output_type": "execute_result"
    }
   ],
   "source": [
    "lmdbloader"
   ]
  },
  {
   "cell_type": "code",
   "execution_count": 45,
   "metadata": {},
   "outputs": [
    {
     "name": "stdout",
     "output_type": "stream",
     "text": [
      "1\n"
     ]
    }
   ],
   "source": [
    "for data, target in lmdbloader:\n",
    "    print(1)\n",
    "    break"
   ]
  },
  {
   "cell_type": "code",
   "execution_count": 48,
   "metadata": {},
   "outputs": [
    {
     "data": {
      "text/plain": [
       "torch.Size([3, 682, 909])"
      ]
     },
     "execution_count": 48,
     "metadata": {},
     "output_type": "execute_result"
    }
   ],
   "source": [
    "data[1].shape"
   ]
  },
  {
   "cell_type": "code",
   "execution_count": 49,
   "metadata": {},
   "outputs": [
    {
     "data": {
      "text/plain": [
       "tensor([[[0.7412, 0.7412, 0.7412,  ..., 0.2510, 0.2706, 0.2627],\n",
       "         [0.7451, 0.7451, 0.7451,  ..., 0.2235, 0.2235, 0.2314],\n",
       "         [0.7451, 0.7490, 0.7490,  ..., 0.1922, 0.1804, 0.1882],\n",
       "         ...,\n",
       "         [0.2196, 0.2196, 0.2196,  ..., 0.5216, 0.5294, 0.5333],\n",
       "         [0.2157, 0.2157, 0.2157,  ..., 0.5333, 0.5137, 0.5176],\n",
       "         [0.2039, 0.2078, 0.2078,  ..., 0.5176, 0.5176, 0.5216]],\n",
       "\n",
       "        [[0.8784, 0.8784, 0.8784,  ..., 0.3686, 0.3765, 0.3686],\n",
       "         [0.8824, 0.8824, 0.8824,  ..., 0.3412, 0.3373, 0.3373],\n",
       "         [0.8824, 0.8863, 0.8863,  ..., 0.3098, 0.2980, 0.2941],\n",
       "         ...,\n",
       "         [0.2549, 0.2549, 0.2549,  ..., 0.4118, 0.4196, 0.4235],\n",
       "         [0.2588, 0.2588, 0.2588,  ..., 0.4235, 0.4039, 0.4078],\n",
       "         [0.2471, 0.2510, 0.2510,  ..., 0.4078, 0.4078, 0.4118]],\n",
       "\n",
       "        [[0.9020, 0.9020, 0.9020,  ..., 0.2353, 0.2549, 0.2471],\n",
       "         [0.9059, 0.9059, 0.9059,  ..., 0.2078, 0.2157, 0.2157],\n",
       "         [0.9059, 0.9098, 0.9098,  ..., 0.1765, 0.1647, 0.1647],\n",
       "         ...,\n",
       "         [0.2431, 0.2431, 0.2431,  ..., 0.2588, 0.2667, 0.2706],\n",
       "         [0.2431, 0.2431, 0.2431,  ..., 0.2706, 0.2510, 0.2549],\n",
       "         [0.2314, 0.2353, 0.2353,  ..., 0.2549, 0.2549, 0.2588]]])"
      ]
     },
     "execution_count": 49,
     "metadata": {},
     "output_type": "execute_result"
    }
   ],
   "source": [
    "data[1]"
   ]
  },
  {
   "cell_type": "code",
   "execution_count": null,
   "metadata": {},
   "outputs": [],
   "source": []
  }
 ],
 "metadata": {
  "kernelspec": {
   "display_name": "base",
   "language": "python",
   "name": "python3"
  },
  "language_info": {
   "codemirror_mode": {
    "name": "ipython",
    "version": 3
   },
   "file_extension": ".py",
   "mimetype": "text/x-python",
   "name": "python",
   "nbconvert_exporter": "python",
   "pygments_lexer": "ipython3",
   "version": "3.8.13 | packaged by conda-forge | (default, Mar 25 2022, 06:04:10) \n[GCC 10.3.0]"
  },
  "orig_nbformat": 4,
  "vscode": {
   "interpreter": {
    "hash": "d4d1e4263499bec80672ea0156c357c1ee493ec2b1c70f0acce89fc37c4a6abe"
   }
  }
 },
 "nbformat": 4,
 "nbformat_minor": 2
}
